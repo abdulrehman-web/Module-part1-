{
 "cells": [
  {
   "cell_type": "code",
   "execution_count": 2,
   "id": "7d3f88a2-62db-483c-99bb-926d8f94de76",
   "metadata": {},
   "outputs": [
    {
     "name": "stdin",
     "output_type": "stream",
     "text": [
      "Enter a number:  2\n"
     ]
    },
    {
     "name": "stdout",
     "output_type": "stream",
     "text": [
      "The number is positive.\n"
     ]
    }
   ],
   "source": [
    "#2\n",
    "num = float(input(\"Enter a number: \"))\n",
    "\n",
    "if num > 0:\n",
    "    print(\"The number is positive.\")\n",
    "elif num < 0:\n",
    "    print(\"The number is negative.\")\n",
    "else:\n",
    "    print(\"The number is zero.\")\n",
    "\n"
   ]
  },
  {
   "cell_type": "code",
   "execution_count": 3,
   "id": "11534d62-31d7-45ab-8b95-4bc06556348d",
   "metadata": {},
   "outputs": [
    {
     "name": "stdin",
     "output_type": "stream",
     "text": [
      "Enter a year:  2025\n"
     ]
    },
    {
     "name": "stdout",
     "output_type": "stream",
     "text": [
      "2025 is not a leap year.\n"
     ]
    }
   ],
   "source": [
    "#lEAP YEAR\n",
    "year = int(input(\"Enter a year: \"))\n",
    "\n",
    "if (year % 4 == 0 and year % 100 != 0) or (year % 400 == 0):\n",
    "    print(f\"{year} is a leap year.\")\n",
    "else:\n",
    "    print(f\"{year} is not a leap year.\")\n"
   ]
  },
  {
   "cell_type": "code",
   "execution_count": 4,
   "id": "aa94a4bf-1780-4bad-806a-c278b458a937",
   "metadata": {},
   "outputs": [
    {
     "name": "stdin",
     "output_type": "stream",
     "text": [
      "Enter first number:  2\n",
      "Enter second number:  5\n",
      "Enter operator (+, -, *, /):  +\n"
     ]
    },
    {
     "name": "stdout",
     "output_type": "stream",
     "text": [
      "Result: 7.0\n"
     ]
    }
   ],
   "source": [
    "#CALCULATOR\n",
    "num1 = float(input(\"Enter first number: \"))\n",
    "num2 = float(input(\"Enter second number: \"))\n",
    "operator = input(\"Enter operator (+, -, *, /): \")\n",
    "\n",
    "if operator == '+':\n",
    "    print(f\"Result: {num1 + num2}\")\n",
    "elif operator == '-':\n",
    "    print(f\"Result: {num1 - num2}\")\n",
    "elif operator == '*':\n",
    "    print(f\"Result: {num1 * num2}\")\n",
    "elif operator == '/':\n",
    "    if num2 != 0:\n",
    "        print(f\"Result: {num1 / num2}\")\n",
    "    else:\n",
    "        print(\"Error! Division by zero.\")\n",
    "else:\n",
    "    print(\"Invalid operator!\")\n"
   ]
  },
  {
   "cell_type": "code",
   "execution_count": 5,
   "id": "deecde17-f185-46b2-b86c-650e9c2f273b",
   "metadata": {},
   "outputs": [
    {
     "name": "stdin",
     "output_type": "stream",
     "text": [
      "Enter student's marks:  50\n"
     ]
    },
    {
     "name": "stdout",
     "output_type": "stream",
     "text": [
      "Grade: C\n"
     ]
    }
   ],
   "source": [
    "#Grades\n",
    "marks = int(input(\"Enter student's marks: \"))\n",
    "\n",
    "if marks >= 85:\n",
    "    print(\"Grade: A\")\n",
    "elif 70 <= marks < 85:\n",
    "    print(\"Grade: B\")\n",
    "elif 50 <= marks < 70:\n",
    "    print(\"Grade: C\")\n",
    "else:\n",
    "    print(\"Grade: F\")\n"
   ]
  },
  {
   "cell_type": "code",
   "execution_count": null,
   "id": "b00357c9-d50a-4eb0-94df-68c27fe4a5c6",
   "metadata": {},
   "outputs": [],
   "source": []
  }
 ],
 "metadata": {
  "kernelspec": {
   "display_name": "Python 3 (ipykernel)",
   "language": "python",
   "name": "python3"
  },
  "language_info": {
   "codemirror_mode": {
    "name": "ipython",
    "version": 3
   },
   "file_extension": ".py",
   "mimetype": "text/x-python",
   "name": "python",
   "nbconvert_exporter": "python",
   "pygments_lexer": "ipython3",
   "version": "3.12.4"
  }
 },
 "nbformat": 4,
 "nbformat_minor": 5
}
