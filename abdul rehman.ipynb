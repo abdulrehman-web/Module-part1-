{
 "cells": [
  {
   "cell_type": "code",
   "execution_count": 1,
   "id": "20e3f778-8aa6-48cc-8a1d-2dfcfdd9ce1e",
   "metadata": {},
   "outputs": [
    {
     "name": "stdout",
     "output_type": "stream",
     "text": [
      "[1, 2, 3, 4, 5, 6, 7, 8, 9, 10]\n"
     ]
    }
   ],
   "source": [
    "#program that display several numbers\n",
    "several_numbers=[1,2,3,4,5,6,7,8,9,10]\n",
    "print(several_numbers)"
   ]
  },
  {
   "cell_type": "code",
   "execution_count": 2,
   "id": "7059dcaf-88fb-47cd-bc00-d427803821ab",
   "metadata": {},
   "outputs": [
    {
     "name": "stdout",
     "output_type": "stream",
     "text": [
      "96\n"
     ]
    }
   ],
   "source": [
    "#solving the summation of 64+32\n",
    "num_1=64\n",
    "num_2=32\n",
    "summation=num_1+num_2\n",
    "print(summation)"
   ]
  },
  {
   "cell_type": "code",
   "execution_count": 4,
   "id": "58598689-9ec0-46e2-aaea-7a0eed3dc5a9",
   "metadata": {},
   "outputs": [
    {
     "name": "stdout",
     "output_type": "stream",
     "text": [
      "lucky\n"
     ]
    }
   ],
   "source": [
    "#print the word lucky\n",
    "s=\"lucky\"\n",
    "print(s)\n"
   ]
  },
  {
   "cell_type": "code",
   "execution_count": 3,
   "id": "81092771-d888-41e9-8255-e0b06319a197",
   "metadata": {},
   "outputs": [
    {
     "name": "stdout",
     "output_type": "stream",
     "text": [
      "Today is 2/2/2016\n"
     ]
    }
   ],
   "source": [
    "date=\"Today is 2/2/2016\"\n",
    "print(date)"
   ]
  },
  {
   "cell_type": "code",
   "execution_count": 4,
   "id": "0f5e6c77-ece4-421a-b09c-ca67982512bb",
   "metadata": {},
   "outputs": [
    {
     "name": "stdin",
     "output_type": "stream",
     "text": [
      "Please enter your phone number:  03254087094\n"
     ]
    },
    {
     "name": "stdout",
     "output_type": "stream",
     "text": [
      "Your phone number is: 03254087094\n"
     ]
    }
   ],
   "source": [
    "# Ask the user for their phone number\n",
    "phone_number = input(\"Please enter your phone number: \")\n",
    "\n",
    "# Display the phone number in the required format\n",
    "print(f\"Your phone number is: {phone_number}\")\n"
   ]
  },
  {
   "cell_type": "code",
   "execution_count": 5,
   "id": "93ff18c4-829e-427b-b6d4-f5871f434eff",
   "metadata": {},
   "outputs": [
    {
     "name": "stdin",
     "output_type": "stream",
     "text": [
      "Enter the first number:  2\n",
      "Enter the second number:  4\n"
     ]
    },
    {
     "name": "stdout",
     "output_type": "stream",
     "text": [
      "The sum of 2.0 and 4.0 is: 6.0\n"
     ]
    }
   ],
   "source": [
    "# Take two numbers as input from the user\n",
    "x = float(input(\"Enter the first number: \"))\n",
    "y = float(input(\"Enter the second number: \"))\n",
    "\n",
    "# Calculate the sum\n",
    "sum_of_numbers = x + y\n",
    "\n",
    "# Display the result\n",
    "print(f\"The sum of {x} and {y} is: {sum_of_numbers}\")\n"
   ]
  },
  {
   "cell_type": "code",
   "execution_count": null,
   "id": "e2ea089d-cc09-4348-b75d-8bad31e06ebe",
   "metadata": {},
   "outputs": [],
   "source": []
  }
 ],
 "metadata": {
  "kernelspec": {
   "display_name": "Python 3 (ipykernel)",
   "language": "python",
   "name": "python3"
  },
  "language_info": {
   "codemirror_mode": {
    "name": "ipython",
    "version": 3
   },
   "file_extension": ".py",
   "mimetype": "text/x-python",
   "name": "python",
   "nbconvert_exporter": "python",
   "pygments_lexer": "ipython3",
   "version": "3.12.4"
  }
 },
 "nbformat": 4,
 "nbformat_minor": 5
}
